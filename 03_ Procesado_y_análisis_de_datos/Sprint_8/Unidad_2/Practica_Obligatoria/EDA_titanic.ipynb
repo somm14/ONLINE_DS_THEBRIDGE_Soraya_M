{
 "cells": [
  {
   "cell_type": "markdown",
   "metadata": {},
   "source": [
    "Importo los pequetes y módulos que voy a necesitas"
   ]
  },
  {
   "cell_type": "code",
   "execution_count": 4,
   "metadata": {},
   "outputs": [],
   "source": [
    "import pandas as pd\n",
    "import squarify\n",
    "import seaborn as sns\n",
    "import matplotlib.pyplot as plt\n",
    "import numpy as np\n",
    "\n",
    "from bootcampviztools import plot_categorical_relationship_fin, pinta_distribucion_categoricas, plot_grouped_histograms,\\\n",
    "    plot_grouped_boxplots, plot_combined_graphs, plot_categorical_numerical_relationship, bubble_plot,\\\n",
    "        grafico_dispersion_con_correlacion\n",
    "from scipy.stats import chi2_contingency, mannwhitneyu"
   ]
  },
  {
   "cell_type": "markdown",
   "metadata": {},
   "source": [
    "Cargo en un DataFrame el dataset del titanic"
   ]
  },
  {
   "cell_type": "code",
   "execution_count": 5,
   "metadata": {},
   "outputs": [],
   "source": [
    "df_titanic = pd.read_csv(\"./data/titanic.csv\")"
   ]
  },
  {
   "cell_type": "markdown",
   "metadata": {},
   "source": [
    "### **LIMPIO LOS DATOS**"
   ]
  },
  {
   "cell_type": "markdown",
   "metadata": {},
   "source": [
    "Me voy a deshacfer de las columnas \"deck\", \"survived\", \"pclass\" y \"embarked\" porque no las voy a utilizar, la primera por su cantidad de nulos y el resto porque son variantes de otras que ya existen y cuyos valores resultan más expresivos a la hora de hacer un análisis."
   ]
  },
  {
   "cell_type": "code",
   "execution_count": 6,
   "metadata": {},
   "outputs": [],
   "source": [
    "df_titanic.drop(columns=[\"deck\",\"survived\",\"pclass\",\"embarked\"], inplace= True)"
   ]
  },
  {
   "cell_type": "markdown",
   "metadata": {},
   "source": [
    "Imputo la moda a los valores nulos de \"embark_town\""
   ]
  },
  {
   "cell_type": "code",
   "execution_count": 7,
   "metadata": {},
   "outputs": [],
   "source": [
    "df_titanic.loc[df_titanic.embark_town.isna(), \"embark_town\"] = df_titanic.embark_town.mode()[0]"
   ]
  },
  {
   "cell_type": "markdown",
   "metadata": {},
   "source": [
    "Sumo las columnas \"parch\" y \"sibsp\" para tener el número de parientes de cada pasajero y guarda el resultado en otra columna \"family_members\" paara después deshacerme de \"parch\" y \"sibsp\""
   ]
  },
  {
   "cell_type": "code",
   "execution_count": 8,
   "metadata": {},
   "outputs": [],
   "source": [
    "df_titanic[\"family_members\"] = df_titanic.parch + df_titanic.sibsp"
   ]
  },
  {
   "cell_type": "code",
   "execution_count": 9,
   "metadata": {},
   "outputs": [],
   "source": [
    "df_titanic = df_titanic.drop([\"parch\",\"sibsp\"], axis = 1)"
   ]
  },
  {
   "cell_type": "markdown",
   "metadata": {},
   "source": [
    "Imputo la media a los valores faltantes de \"age\", considerando además la columna \"who\""
   ]
  },
  {
   "cell_type": "code",
   "execution_count": 10,
   "metadata": {},
   "outputs": [],
   "source": [
    "es_woman = df_titanic.who == \"woman\"\n",
    "es_child = df_titanic.who == \"child\"\n",
    "es_man = df_titanic.who == \"man\"\n",
    "\n",
    "media_woman = df_titanic.loc[es_woman,\"age\"].mean()\n",
    "media_child = df_titanic.loc[es_child,\"age\"].mean()\n",
    "media_man = df_titanic.loc[es_man,\"age\"].mean()\n",
    "\n",
    "es_age_nulo = df_titanic.age.isna()\n",
    "\n",
    "df_titanic.loc[es_woman & es_age_nulo, \"age\"] = media_woman\n",
    "df_titanic.loc[es_child & es_age_nulo, \"age\"] = media_child\n",
    "df_titanic.loc[es_man & es_age_nulo, \"age\"] = media_man"
   ]
  },
  {
   "cell_type": "markdown",
   "metadata": {},
   "source": [
    "### **DEFINO Y TIPIFICO LAS VARIABLES**"
   ]
  },
  {
   "cell_type": "markdown",
   "metadata": {},
   "source": [
    "Creo una función para tipificar las variables"
   ]
  },
  {
   "cell_type": "code",
   "execution_count": 11,
   "metadata": {},
   "outputs": [],
   "source": [
    "def cardinalidad(df_in, umbral_categoria, umbral_continua):\n",
    "    # Creo un DataFrame para almacenar los resultados\n",
    "    df_tipificacion = pd.DataFrame({\n",
    "        'Card': df_in.nunique(),  # Cardinalidad\n",
    "        '%_Card': df_in.nunique() / len(df_in) * 100,  # Porcentaje de cardinalidad\n",
    "        'Tipo': df_in.dtypes  # Tipo de dato\n",
    "    })\n",
    "    \n",
    "\n",
    "    # Inicializo la columna de clasificación como vacía\n",
    "    df_tipificacion[\"Clasificación_como\"] = \"\"\n",
    "    \n",
    "    # Aplico las reglas de clasificación\n",
    "    for col in df_tipificacion.index:\n",
    "        card = df_tipificacion.loc[col, 'Card']\n",
    "        porcentaje = df_tipificacion.loc[col, '%_Card']\n",
    "                \n",
    "        if card == 2:\n",
    "            df_tipificacion.at[col, \"Clasificación_como\"] = \"Binaria\" \n",
    "        elif card < umbral_categoria:\n",
    "            df_tipificacion.at[col, \"Clasificación_como\"] = \"Categórica\"\n",
    "        else:\n",
    "            if porcentaje >= umbral_continua:\n",
    "                df_tipificacion.at[col, \"Clasificación_como\"] = \"Numérica Continua\"\n",
    "            else:\n",
    "                df_tipificacion.at[col, \"Clasificación_como\"] = \"Numérica Discreta\"\n",
    "    \n",
    "    return df_tipificacion"
   ]
  },
  {
   "cell_type": "code",
   "execution_count": 12,
   "metadata": {},
   "outputs": [
    {
     "data": {
      "text/html": [
       "<div>\n",
       "<style scoped>\n",
       "    .dataframe tbody tr th:only-of-type {\n",
       "        vertical-align: middle;\n",
       "    }\n",
       "\n",
       "    .dataframe tbody tr th {\n",
       "        vertical-align: top;\n",
       "    }\n",
       "\n",
       "    .dataframe thead th {\n",
       "        text-align: right;\n",
       "    }\n",
       "</style>\n",
       "<table border=\"1\" class=\"dataframe\">\n",
       "  <thead>\n",
       "    <tr style=\"text-align: right;\">\n",
       "      <th></th>\n",
       "      <th>Card</th>\n",
       "      <th>%_Card</th>\n",
       "      <th>Tipo</th>\n",
       "      <th>Clasificación_como</th>\n",
       "    </tr>\n",
       "  </thead>\n",
       "  <tbody>\n",
       "    <tr>\n",
       "      <th>sex</th>\n",
       "      <td>2</td>\n",
       "      <td>0.224467</td>\n",
       "      <td>object</td>\n",
       "      <td>Binaria</td>\n",
       "    </tr>\n",
       "    <tr>\n",
       "      <th>age</th>\n",
       "      <td>89</td>\n",
       "      <td>9.988777</td>\n",
       "      <td>float64</td>\n",
       "      <td>Numérica Discreta</td>\n",
       "    </tr>\n",
       "    <tr>\n",
       "      <th>fare</th>\n",
       "      <td>248</td>\n",
       "      <td>27.833895</td>\n",
       "      <td>float64</td>\n",
       "      <td>Numérica Continua</td>\n",
       "    </tr>\n",
       "    <tr>\n",
       "      <th>class</th>\n",
       "      <td>3</td>\n",
       "      <td>0.336700</td>\n",
       "      <td>object</td>\n",
       "      <td>Categórica</td>\n",
       "    </tr>\n",
       "    <tr>\n",
       "      <th>who</th>\n",
       "      <td>3</td>\n",
       "      <td>0.336700</td>\n",
       "      <td>object</td>\n",
       "      <td>Categórica</td>\n",
       "    </tr>\n",
       "    <tr>\n",
       "      <th>adult_male</th>\n",
       "      <td>2</td>\n",
       "      <td>0.224467</td>\n",
       "      <td>bool</td>\n",
       "      <td>Binaria</td>\n",
       "    </tr>\n",
       "    <tr>\n",
       "      <th>embark_town</th>\n",
       "      <td>3</td>\n",
       "      <td>0.336700</td>\n",
       "      <td>object</td>\n",
       "      <td>Categórica</td>\n",
       "    </tr>\n",
       "    <tr>\n",
       "      <th>alive</th>\n",
       "      <td>2</td>\n",
       "      <td>0.224467</td>\n",
       "      <td>object</td>\n",
       "      <td>Binaria</td>\n",
       "    </tr>\n",
       "    <tr>\n",
       "      <th>alone</th>\n",
       "      <td>2</td>\n",
       "      <td>0.224467</td>\n",
       "      <td>bool</td>\n",
       "      <td>Binaria</td>\n",
       "    </tr>\n",
       "    <tr>\n",
       "      <th>family_members</th>\n",
       "      <td>9</td>\n",
       "      <td>1.010101</td>\n",
       "      <td>int64</td>\n",
       "      <td>Categórica</td>\n",
       "    </tr>\n",
       "  </tbody>\n",
       "</table>\n",
       "</div>"
      ],
      "text/plain": [
       "                Card     %_Card     Tipo Clasificación_como\n",
       "sex                2   0.224467   object            Binaria\n",
       "age               89   9.988777  float64  Numérica Discreta\n",
       "fare             248  27.833895  float64  Numérica Continua\n",
       "class              3   0.336700   object         Categórica\n",
       "who                3   0.336700   object         Categórica\n",
       "adult_male         2   0.224467     bool            Binaria\n",
       "embark_town        3   0.336700   object         Categórica\n",
       "alive              2   0.224467   object            Binaria\n",
       "alone              2   0.224467     bool            Binaria\n",
       "family_members     9   1.010101    int64         Categórica"
      ]
     },
     "execution_count": 12,
     "metadata": {},
     "output_type": "execute_result"
    }
   ],
   "source": [
    "cardinalidad = cardinalidad(df_titanic, 10, 20)\n",
    "cardinalidad"
   ]
  },
  {
   "cell_type": "markdown",
   "metadata": {},
   "source": [
    "Creo la tabla de las variables sin dar valor a la importancia inicial marcándola por cada objetivo."
   ]
  },
  {
   "cell_type": "markdown",
   "metadata": {},
   "source": [
    "|Columna/Variable|Descripción|Tipo_de_Variable|Importancia inicial|Nota|\n",
    "|-|-|-|-|-|\n",
    "|sex|sexo de la persona que embarcó|Binaria||Influye en el objetivo pero nos interesa más la varivale `who`|\n",
    "|age|Edad de la persona indicada|Numérica discreta||Demográfica|\n",
    "|fare|Tarifa de la persona indicada|Numérica continua||Relacionado con la clase que pertenecieron|\n",
    "|class|Clase donde estuvo la persona en el barco|Categórica||Se puede ver si está relacionado si fueron más \"ricos\" los que sobrevivieron o los \"pobres\"|\n",
    "|who|Indica si es hombre, mujer o niño/a|Categórica||Demográfica|\n",
    "|adult_male|Indica si la persona es adulta y del sexo masculino (True o False)|Binaria|||\n",
    "|embark_town|Ciudades donde se embarcó|Categórica||Demográfica|\n",
    "|alive|Muestra si la persona ha sobrevivido o no|Binaria||El True representa a sí y el False a no|\n",
    "|alone|Si viajó sola o no|Binaria|||\n",
    "|family_members|Número de familiares con la que viajaba la persona indicada|Categórica|||"
   ]
  },
  {
   "cell_type": "markdown",
   "metadata": {},
   "source": [
    "### **ANÁLISIS**\n",
    "\n",
    "##### **Marco el objetivo principal**\n",
    "\n",
    "- *Tasa de mortalidad y supervivencia en el Titanic*\n",
    "\n",
    "Por lo que `alive` será el target o la variable directora\n",
    "\n",
    "> 1. Analizamos esta variable categórida de manera univariante. Es decir, pintaremos el histograma con sus valores relativos"
   ]
  },
  {
   "cell_type": "code",
   "execution_count": 13,
   "metadata": {},
   "outputs": [
    {
     "data": {
      "text/plain": [
       "891"
      ]
     },
     "execution_count": 13,
     "metadata": {},
     "output_type": "execute_result"
    }
   ],
   "source": [
    "# Calculo cuántas personas embarcaron en el Titanic del dataset\n",
    "len(df_titanic)"
   ]
  },
  {
   "cell_type": "code",
   "execution_count": 14,
   "metadata": {},
   "outputs": [
    {
     "data": {
      "text/plain": [
       "alive\n",
       "no     549\n",
       "yes    342\n",
       "Name: count, dtype: int64"
      ]
     },
     "execution_count": 14,
     "metadata": {},
     "output_type": "execute_result"
    }
   ],
   "source": [
    "# Cuantas sobrevivieron y fallecieron\n",
    "# Absoluta\n",
    "absoluta = df_titanic.alive.value_counts()\n",
    "absoluta"
   ]
  },
  {
   "cell_type": "code",
   "execution_count": 15,
   "metadata": {},
   "outputs": [
    {
     "data": {
      "text/plain": [
       "alive\n",
       "no     61.62\n",
       "yes    38.38\n",
       "Name: count, dtype: float64"
      ]
     },
     "execution_count": 15,
     "metadata": {},
     "output_type": "execute_result"
    }
   ],
   "source": [
    "# Relativa\n",
    "relativa = round(df_titanic[\"alive\"].value_counts() / len(df_titanic) * 100, 2)\n",
    "relativa"
   ]
  },
  {
   "cell_type": "markdown",
   "metadata": {},
   "source": [
    "*En términos relativos fallecieron más las personas que viajaron en el Titanic con un 62% frente a un 38% las personas que fallecieron. Por lo que la tasa de mortalidad fue un índice elevado.*"
   ]
  },
  {
   "cell_type": "markdown",
   "metadata": {},
   "source": [
    "Creo el diagrama de barras en `plp` para visualizarlo en la presentación "
   ]
  },
  {
   "cell_type": "code",
   "execution_count": 16,
   "metadata": {},
   "outputs": [
    {
     "data": {
      "image/png": "[encoded data removed]",
      "text/plain": [
       "<Figure size 640x480 with 1 Axes>"
      ]
     },
     "metadata": {},
     "output_type": "display_data"
    }
   ],
   "source": [
    "# La rescato del fichero \"bootcampviztools.py\"\n",
    "\n",
    "serie = df_titanic[\"alive\"].value_counts()\n",
    "ax = sns.barplot(x=serie.index, y=serie, palette='viridis', hue = serie.index, legend = True)\n",
    "ax.set_ylabel('Frecuencia')\n",
    "\n",
    "for container in ax.containers:\n",
    "    for p in container.patches:\n",
    "        height = p.get_height()\n",
    "        ax.annotate(f'{height:.2f}', (p.get_x() + p.get_width() / 2., height),\n",
    "                    ha='center', va='center', xytext=(0, 9), textcoords='offset points')\n",
    "\n",
    "plt.axis(\"off\");"
   ]
  },
  {
   "cell_type": "markdown",
   "metadata": {},
   "source": [
    "> 2. Análisis bivariante de `who` y `alive`"
   ]
  },
  {
   "cell_type": "code",
   "execution_count": 17,
   "metadata": {},
   "outputs": [
    {
     "name": "stdout",
     "output_type": "stream",
     "text": [
      "who\n",
      "man      537\n",
      "woman    271\n",
      "child     83\n",
      "Name: count, dtype: int64\n",
      "\n",
      " who\n",
      "man      60.27\n",
      "woman    30.42\n",
      "child     9.32\n",
      "Name: count, dtype: float64\n"
     ]
    }
   ],
   "source": [
    "# Frecuencias absolutas y relativas de 'who'\n",
    "\n",
    "absoluta_who = df_titanic.who.value_counts()\n",
    "relativa_who = round(df_titanic.who.value_counts() / len(df_titanic) * 100, 2)\n",
    "\n",
    "print(absoluta_who)\n",
    "print(\"\\n\", relativa_who)"
   ]
  },
  {
   "cell_type": "code",
   "execution_count": 18,
   "metadata": {},
   "outputs": [
    {
     "data": {
      "image/png": "[encoded data removed]",
      "text/plain": [
       "<Figure size 1000x600 with 1 Axes>"
      ]
     },
     "metadata": {},
     "output_type": "display_data"
    }
   ],
   "source": [
    "# Creo el diagrama de barras para compararlo de manera bivariante\n",
    "# La rescato del fichero \"bootcampviztools.py\" para ayudarme en la presentación\n",
    "\n",
    "# Prepara los datos\n",
    "count_data = df_titanic.groupby([\"who\", \"alive\"]).size().reset_index(name='count')\n",
    "total_counts = df_titanic[\"who\"].value_counts()\n",
    "\n",
    "count_data['count'] = count_data.apply(lambda x: x['count'] / total_counts[x[\"who\"]] * 100, axis=1)\n",
    "\n",
    "\n",
    "plt.figure(figsize=(10, 6))\n",
    "ax = sns.barplot(x=\"who\", y='count', hue=\"alive\", data=count_data)\n",
    "\n",
    "# Mostrar valores en el gráfico\n",
    "for p in ax.patches:\n",
    "    ax.annotate(f'{p.get_height():.2f}', (p.get_x() + p.get_width() / 2., p.get_height()),\n",
    "                ha='center', va='center', fontsize=10, color='black', xytext=(0, 5),\n",
    "                textcoords='offset points')\n",
    "\n",
    "plt.axis(\"off\");"
   ]
  },
  {
   "cell_type": "markdown",
   "metadata": {},
   "source": [
    "* *En términos absolutos murieron muchos más hombres que cualquiera de los otros dos grupos*\n",
    "* *En términos relativos,también la mortalidad fue superior (visualmente muy superior al del resto de grupos, 84% vs 41% en niños y 24% en mujeres). Y además comparado con la media total se ve claramente que está por encima.*"
   ]
  },
  {
   "cell_type": "code",
   "execution_count": 19,
   "metadata": {},
   "outputs": [
    {
     "name": "stdout",
     "output_type": "stream",
     "text": [
      "Valor Chi-Cuadrado: 283.923050324233\n",
      "P-Value: 2.2227620817798914e-62\n",
      "Grados de Libertad: 2\n",
      "Tabla de Frecuencias Esperadas:\n",
      " [[ 51.14141414 330.87878788 166.97979798]\n",
      " [ 31.85858586 206.12121212 104.02020202]]\n"
     ]
    }
   ],
   "source": [
    "tabla_contingencia = pd.crosstab(df_titanic[\"alive\"],df_titanic[\"who\"])\n",
    "\n",
    "chi2, p, dof, expected = chi2_contingency(tabla_contingencia)\n",
    "\n",
    "print(\"Valor Chi-Cuadrado:\", chi2)\n",
    "print(\"P-Value:\", p)\n",
    "print(\"Grados de Libertad:\", dof)\n",
    "print(\"Tabla de Frecuencias Esperadas:\\n\", expected)"
   ]
  },
  {
   "cell_type": "markdown",
   "metadata": {},
   "source": [
    "*Claramente podemos rechazar la hipótesis nula de no dependencia y considerar que sí que hay una relación entre el grupo de edad-sexo y la supervivencia estadísticamente significativa. Ser hombre en el titanic fue duro*  \n",
    "*Pero otro dato interesante es el hecho de que el grupo de los niños sufrió una mortalidad más del doble que el de las mujeres... Mujeres y niños primero,... Por ejemplo un multivariante con clase* "
   ]
  },
  {
   "cell_type": "markdown",
   "metadata": {},
   "source": [
    "> 3. Para seguir con nuestro EDA, realizaré un análisis bivariante entre `class` y `who`"
   ]
  },
  {
   "cell_type": "code",
   "execution_count": 20,
   "metadata": {},
   "outputs": [
    {
     "data": {
      "image/png": "[encoded data removed]",
      "text/plain": [
       "<Figure size 1000x600 with 1 Axes>"
      ]
     },
     "metadata": {},
     "output_type": "display_data"
    }
   ],
   "source": [
    "# Para ello utilizaré el diagrama de barras para compararlo de manera bivariante\n",
    "count_data = df_titanic.groupby([\"who\", \"class\"]).size().reset_index(name='count')\n",
    "total_counts = df_titanic[\"who\"].value_counts()\n",
    "count_data['count'] = count_data.apply(lambda x: x['count'] / total_counts[x[\"who\"]] * 100, axis=1)\n",
    "\n",
    "plt.figure(figsize=(10, 6))\n",
    "ax = sns.barplot(x=\"who\", y='count', hue=\"class\", data=count_data)\n",
    "\n",
    "for p in ax.patches:\n",
    "    ax.annotate(f'{p.get_height():.2f}', (p.get_x() + p.get_width() / 2., p.get_height()),\n",
    "                ha='center', va='center', fontsize=10, color='black', xytext=(0, 5),\n",
    "                textcoords='offset points')\n",
    "\n",
    "plt.yticks([]);"
   ]
  },
  {
   "cell_type": "markdown",
   "metadata": {},
   "source": [
    "*La explicación de la supervivencia está en la combinación de factores, las mujeres y niños sobrevivieron más en general pero también el factor clase influyó y había muchos más niños en tercera que mujeres en tercera proprocionalmente*"
   ]
  },
  {
   "cell_type": "markdown",
   "metadata": {},
   "source": [
    "Ahora realizaré el análisi bivariante entre `class` y `alive`"
   ]
  },
  {
   "cell_type": "code",
   "execution_count": 21,
   "metadata": {},
   "outputs": [
    {
     "data": {
      "image/png": "[encoded data removed]",
      "text/plain": [
       "<Figure size 1000x600 with 1 Axes>"
      ]
     },
     "metadata": {},
     "output_type": "display_data"
    }
   ],
   "source": [
    "# Para ello utilizaré el diagrama de barras para compararlo de manera bivariante\n",
    "count_data = df_titanic.groupby([\"class\", \"alive\"]).size().reset_index(name='count')\n",
    "total_counts = df_titanic[\"class\"].value_counts()\n",
    "count_data['count'] = count_data.apply(lambda x: x['count'] / total_counts[x[\"class\"]] * 100, axis=1)\n",
    "\n",
    "plt.figure(figsize=(10, 6))\n",
    "ax = sns.barplot(x=\"class\", y='count', hue=\"alive\", data=count_data)\n",
    "\n",
    "for p in ax.patches:\n",
    "    ax.annotate(f'{p.get_height():.2f}', (p.get_x() + p.get_width() / 2., p.get_height()),\n",
    "                ha='center', va='center', fontsize=10, color='black', xytext=(0, 5),\n",
    "                textcoords='offset points')\n",
    "\n",
    "plt.yticks([]);"
   ]
  },
  {
   "cell_type": "markdown",
   "metadata": {},
   "source": [
    "*En términos relativos fue la primera clase la que mayor ratio de supervivencia muestra, aquí además se ve que hay más porcentaje de supervivientes de segunda que de tercera (47% frente a 24%), y que la diferencia en valores absolutos se debe a la diferencia en términos absolutos entre pasajeros que viajaban en segunda y terecera.*"
   ]
  },
  {
   "cell_type": "markdown",
   "metadata": {},
   "source": [
    "Para comprobar la relevancia estadística de la que parece una realación clara, volvemos al test chi-2"
   ]
  },
  {
   "cell_type": "code",
   "execution_count": 22,
   "metadata": {},
   "outputs": [
    {
     "name": "stdout",
     "output_type": "stream",
     "text": [
      "Valor Chi-Cuadrado: 102.88898875696056\n",
      "P-Value: 4.549251711298793e-23\n",
      "Grados de Libertad: 2\n",
      "Tabla de Frecuencias Esperadas:\n",
      " [[133.09090909 113.37373737 302.53535354]\n",
      " [ 82.90909091  70.62626263 188.46464646]]\n"
     ]
    }
   ],
   "source": [
    "tabla_contingencia = pd.crosstab(df_titanic[\"alive\"],df_titanic[\"class\"])\n",
    "\n",
    "chi2, p, dof, expected = chi2_contingency(tabla_contingencia)\n",
    "\n",
    "\n",
    "print(\"Valor Chi-Cuadrado:\", chi2)\n",
    "print(\"P-Value:\", p)\n",
    "print(\"Grados de Libertad:\", dof)\n",
    "print(\"Tabla de Frecuencias Esperadas:\\n\", expected)"
   ]
  },
  {
   "cell_type": "markdown",
   "metadata": {},
   "source": [
    "*Como casi erea de esperar, la confianza estadística de la existencia de una relación entre la clase y la supervivencia es muy alta*"
   ]
  },
  {
   "cell_type": "markdown",
   "metadata": {},
   "source": [
    "> 4. Análisis multivariantes entre `who`, `class` y `alive`"
   ]
  },
  {
   "cell_type": "code",
   "execution_count": 23,
   "metadata": {},
   "outputs": [
    {
     "data": {
      "text/plain": [
       "([], [])"
      ]
     },
     "execution_count": 23,
     "metadata": {},
     "output_type": "execute_result"
    },
    {
     "data": {
      "image/png": "[encoded data removed]",
      "text/plain": [
       "<Figure size 1600.75x500 with 3 Axes>"
      ]
     },
     "metadata": {},
     "output_type": "display_data"
    }
   ],
   "source": [
    "sns.catplot(x= \"alive\", col = \"class\", hue = \"who\", data = df_titanic, kind = \"count\")\n",
    "plt.yticks([])"
   ]
  },
  {
   "cell_type": "markdown",
   "metadata": {},
   "source": [
    "*Se puede observar más claramente la influencia de pertenecer a una case y otra donde los hombres, con mayor tasa de fallecimientos, se concentra su máximo en la tercera clase.*\n",
    "\n",
    "*Analizando el principio de 'mujeres y niños primero', las mujeres que más sobrevivieron en proporción fueron las pertenecientes a la primera clase y, en cambio, se salvaron más niños de la tercera clase.*"
   ]
  },
  {
   "cell_type": "markdown",
   "metadata": {},
   "source": [
    "> 4. Análisis bivariante entre `fare`y `alive`"
   ]
  },
  {
   "cell_type": "code",
   "execution_count": 32,
   "metadata": {},
   "outputs": [
    {
     "data": {
      "image/png": "[encoded data removed]",
      "text/plain": [
       "<Figure size 600x300 with 1 Axes>"
      ]
     },
     "metadata": {},
     "output_type": "display_data"
    }
   ],
   "source": [
    "plt.figure(figsize=(6,3))\n",
    "for valor in df_titanic[\"class\"].unique():  \n",
    "    sns.kdeplot(df_titanic.loc[df_titanic[\"class\"] == valor, \"fare\"], label=valor)\n",
    "plt.legend()\n",
    "plt.title('Precio tarifa por la clase')\n",
    "plt.xlabel(\"Tarifa\")\n",
    "plt.yticks([])\n",
    "plt.show()"
   ]
  },
  {
   "cell_type": "code",
   "execution_count": 34,
   "metadata": {},
   "outputs": [
    {
     "data": {
      "image/png": "[encoded data removed]",
      "text/plain": [
       "<Figure size 600x300 with 1 Axes>"
      ]
     },
     "metadata": {},
     "output_type": "display_data"
    }
   ],
   "source": [
    "plt.figure(figsize=(6,3))\n",
    "for valor in df_titanic[\"alive\"].unique():  \n",
    "    sns.kdeplot(df_titanic.loc[df_titanic[\"alive\"] == valor, \"fare\"], label=valor)\n",
    "plt.legend()\n",
    "plt.title('Muertes/supervivencia por la tarifa')\n",
    "plt.xlabel(\"Tarifa\")\n",
    "plt.yticks([])\n",
    "plt.show()"
   ]
  },
  {
   "cell_type": "code",
   "execution_count": 35,
   "metadata": {},
   "outputs": [
    {
     "name": "stdout",
     "output_type": "stream",
     "text": [
      "Estadístico U: 129951.5\n",
      "Valor p: 4.553477179250237e-22\n"
     ]
    }
   ],
   "source": [
    "grupo_a = df_titanic.loc[df_titanic.alive == \"yes\"][\"fare\"]\n",
    "grupo_b = df_titanic.loc[df_titanic.alive == \"no\"][\"fare\"]\n",
    "\n",
    "\n",
    "u_stat, p_valor = mannwhitneyu(grupo_a, grupo_b)\n",
    "\n",
    "print(\"Estadístico U:\", u_stat)\n",
    "print(\"Valor p:\", p_valor)"
   ]
  },
  {
   "cell_type": "markdown",
   "metadata": {},
   "source": [
    "*Con p-value <<<<< 0.05, podemos decir que existe confianza estadística en la relación entre ambas variables*"
   ]
  },
  {
   "cell_type": "markdown",
   "metadata": {},
   "source": [
    "*Observando las gráficas KDE tanto de `fare` y `alive` como de `fare` y `class`, refleja la clara influencia de pertenecer a primera clase, pagando más tarifa en sus viajes, son sobrevivir, y al contrario: pagar menos tariga pertenenciendo así a la tercera clase y fallecer*"
   ]
  }
 ],
 "metadata": {
  "kernelspec": {
   "display_name": "Python 3",
   "language": "python",
   "name": "python3"
  },
  "language_info": {
   "codemirror_mode": {
    "name": "ipython",
    "version": 3
   },
   "file_extension": ".py",
   "mimetype": "text/x-python",
   "name": "python",
   "nbconvert_exporter": "python",
   "pygments_lexer": "ipython3",
   "version": "3.12.3"
  }
 },
 "nbformat": 4,
 "nbformat_minor": 2
}
