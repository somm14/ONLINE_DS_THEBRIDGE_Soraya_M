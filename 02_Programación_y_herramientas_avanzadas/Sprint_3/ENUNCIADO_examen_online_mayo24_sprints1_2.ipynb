{
 "cells": [
  {
   "cell_type": "markdown",
   "id": "1f1401c1-4dc9-4902-95bf-160715a42a25",
   "metadata": {},
   "source": [
    "# Prueba de Ramp-up"
   ]
  },
  {
   "cell_type": "markdown",
   "id": "1b34c670-a6dd-482d-9b04-5babee7be17a",
   "metadata": {},
   "source": [
    "Antes de comenzar, cambia el nombre del archivo notebook poniéndole delante tu nombre y primer apellido:\n",
    "\n",
    "* nombre_apellido_examen_online_sprint1_2.ipynb"
   ]
  },
  {
   "cell_type": "code",
   "execution_count": 1,
   "id": "c8d9a657-272c-425a-9ac4-ea59f479673c",
   "metadata": {},
   "outputs": [],
   "source": [
    "# Escribe tu nombre en la variable:\n",
    "nombre_y_apellidos = \"Soraya Malpica Montes\" "
   ]
  },
  {
   "cell_type": "code",
   "execution_count": 2,
   "id": "2e9f9af5-076c-44ec-9a80-95c0e99cdc58",
   "metadata": {},
   "outputs": [],
   "source": [
    "\"\"\"\n",
    "Criterios de corrección:\n",
    "\n",
    "ejecución (ausencia de errores y obtención de resultados)\n",
    "estructura del código\n",
    "uso correcto de variables\n",
    "manejo de tipo de variables\n",
    "asignaciones\n",
    "operaciones booleanas\n",
    "manejo lógico de flujos de control y bucles\n",
    "uso de colecciones\n",
    "uso de funciones\n",
    "\"\"\";\n",
    "\n",
    "# Ejemplo de como queremos ver el código para más de un intento:\n",
    "\n",
    "# intento 1\n",
    "#your code\n",
    "\n",
    "# intento 2\n",
    "#your code"
   ]
  },
  {
   "cell_type": "code",
   "execution_count": 3,
   "id": "bb16d0e3-3bb9-4f2b-944e-8fc35e628701",
   "metadata": {},
   "outputs": [],
   "source": [
    "# crea todas las celdas que necesites"
   ]
  },
  {
   "cell_type": "markdown",
   "id": "9e02b8f5-6f66-4e73-acfa-7f8c3977de2a",
   "metadata": {},
   "source": [
    "#### Notas y pruebas de apoyo para contestar las preguntas\n",
    "\n",
    "\n",
    "Cualquier código aunque no esté correcto nos dirá más de ti que no escribir nada. "
   ]
  },
  {
   "cell_type": "markdown",
   "id": "57d6b062-27f8-4377-b583-d662777b0bd7",
   "metadata": {},
   "source": [
    "__Debes subir tu examen resuelto a tu repo de GitHub cuando haya acabado este team challenge__"
   ]
  },
  {
   "cell_type": "markdown",
   "id": "062d81e8",
   "metadata": {},
   "source": [
    "#### Ejercicio 1\n",
    "\n",
    "Disponemos de una lista con información sobre varios empleados:\n",
    "\n",
    "    empleados = [[12345, \"Juan Rodríguez\", 53, [\"Director financiero\"], 2],[56789, \"Laura Pérez\", 41, [\"CEO\", \"Director\", \"Gerente\"], 2],[88354, \"Pedro Álvarez\", 26, [\"Asistente\",\"Gestor comercial\"], 3]]\n",
    "\n",
    "Respecto de cada empleado, la lista contiene cinco elementos: en el primero almacenamos su tfno, en el segundo su nombre, en el tercero su edad, en el cuarto los puestos que ha desempeñado en la empresa (en forma de lista) y en el quinto su código postal.\n",
    "\n",
    "1. Siguiendo la misma estructura, incluye un nuevo empleado en la última posición de la lista empleados.\n",
    "\n",
    "2. Mostrar por pantalla, sin uso de funciones (salvo print) ni bucles: \n",
    "\n",
    "    - El nombre y la edad del tercer empleado de la lista empleados.\n",
    "    - Los puestos desempeñados por Pedro Álvarez, ordenados de atras a adelante (es decir, de Gestor comercial a Asistente)\n",
    "    - Si el nuevo empleado que has añadido tiene más o igual a 60 años, muestra por pantalla los puestos que el nuevo empleado haya desempeñado en la empresa. En caso contrario, muestra los puestos desempeñados por Laura Pérez y Juan Rodriguez."
   ]
  },
  {
   "cell_type": "code",
   "execution_count": 18,
   "id": "761ea5dd",
   "metadata": {},
   "outputs": [
    {
     "name": "stdout",
     "output_type": "stream",
     "text": [
      "[[12345, 'Juan Rodríguez', 53, ['Director financiero'], 2], [56789, 'Laura Pérez', 41, ['CEO', 'Director', 'Gerente'], 2], [88354, 'Pedro Álvarez', 26, ['Asistente', 'Gestor comercial'], 3], [1234, 'Marina Gómez', 22, ['Asistente'], 1]]\n",
      "El tercer empleado se llama Pedro Álvarez y tiene 26 años\n",
      "['Gestor comercial', 'Asistente']\n",
      "Puestos desempeñados por Laura Pérez, ['CEO', 'Director', 'Gerente']\n",
      "Puestos desempeñados por Juan Rodríguez, ['Director financiero']\n"
     ]
    }
   ],
   "source": [
    "empleados = [[12345, \"Juan Rodríguez\", 53, [\"Director financiero\"], 2],[56789, \"Laura Pérez\", 41, [\"CEO\", \"Director\", \"Gerente\"], 2],\\\n",
    "             [88354, \"Pedro Álvarez\", 26, [\"Asistente\",\"Gestor comercial\"], 3]]\n",
    "\n",
    "nuevo_empleado = [1234, \"Marina Gómez\", 22, [\"Asistente\"], 1]\n",
    "empleados.append(nuevo_empleado) # Incluyo el nuevo empleado creando anteriormente la lista de la información del empleado\n",
    "print(empleados) \n",
    "\n",
    "print(\"El tercer empleado se llama\", empleados[2][1], \"y tiene\", empleados[2][2], \"años\")\n",
    "\n",
    "puestos_invertidos = list(reversed(empleados[2][3]))\n",
    "print(puestos_invertidos)\n",
    "\n",
    "if empleados[3][2] >= 60:\n",
    "    print(f\"Puestos desempeñados por {empleados[3][1]}, {empleados[3][3]}\")\n",
    "else:\n",
    "    print(f\"Puestos desempeñados por {empleados[1][1]}, {empleados[1][3]}\")\n",
    "    print(f\"Puestos desempeñados por {empleados[0][1]}, {empleados[0][3]}\")\n",
    "\n",
    "\n"
   ]
  },
  {
   "cell_type": "markdown",
   "id": "4da89624-0da3-4f91-aa5c-a084c5ee1b17",
   "metadata": {},
   "source": [
    "#### Ejercicio 2. \n",
    "\n",
    "Escribe un programa que te diga si una letra es una consonante o una vocal. Crea tu propia **FUNCIÓN**\n"
   ]
  },
  {
   "cell_type": "code",
   "execution_count": 24,
   "id": "c58bf610-92de-4a5a-a00d-652279ea33dd",
   "metadata": {},
   "outputs": [
    {
     "name": "stdout",
     "output_type": "stream",
     "text": [
      "f es una consonante\n"
     ]
    }
   ],
   "source": [
    "letra = input(\"Introduzca una letra, por favor\")\n",
    "\n",
    "\n",
    "def vocal_consonante(letra):\n",
    "    letra_m = letra.lower()\n",
    "    if letra_m == \"a\" or letra_m == \"e\" or letra_m == \"i\" or letra_m == \"o\" or letra_m == \"u\":\n",
    "        print(f\"{letra} es una vocal\")\n",
    "    else:\n",
    "        print(f\"{letra} es una consonante\")\n",
    "    \n",
    "vocal_consonante(letra)\n",
    "\n",
    "\n"
   ]
  },
  {
   "cell_type": "markdown",
   "id": "52065a6c-3d4c-44c0-a10b-958506c481b3",
   "metadata": {},
   "source": [
    "#### Ejercicio 3. \n",
    "\n",
    "Escribe un programa que calcule la edad humana de un perro.\n",
    "Tienes que pedirle al usuario la edad del perro en años.\n",
    "Si el usuario introduce un número negativo, imprime que la cifra facilitada no tiene sentido. Si el perro tiene un año, son 14 años humanos. Si tiene 2 años, son 22 años humanos.\n",
    "A partir de los 2 años, el cálculo es el siguiente: a la edad del perro se le restan 2 años, el resultado se multiplica por 5 y, finalmente, se le suma 22.\n",
    "Usa una función sin argumentos de entrada ni de salida (muestra toda la información con print())"
   ]
  },
  {
   "cell_type": "code",
   "execution_count": 34,
   "id": "9c59c801-1fe1-4a6d-a000-f85ca738ed00",
   "metadata": {},
   "outputs": [
    {
     "name": "stdout",
     "output_type": "stream",
     "text": [
      "Edad humana 72\n"
     ]
    }
   ],
   "source": [
    "edad = int(input(\"Introduzca la edad del perro\"))\n",
    "\n",
    "def edad_perro_humana():\n",
    "    if edad < 0:\n",
    "        print(\"La cifra facilitada no tiene sentido\")\n",
    "    elif edad == 1:\n",
    "        print(\"Edad humana: 14\")\n",
    "    elif edad == 2:\n",
    "        print(\"Edad humana 22\")\n",
    "    else:\n",
    "        resultado = (edad - 2) * 5 + 22\n",
    "        print(\"Edad humana\", resultado)\n",
    "\n",
    "edad_perro_humana()"
   ]
  },
  {
   "cell_type": "markdown",
   "id": "2991309f-4208-431a-900c-d9bc734bb936",
   "metadata": {},
   "source": [
    "#### Ejercicio 4. \n",
    "\n",
    "Escribe un programa que te diga si una frase es un pangrama. Un pangrama es una frase que contiene todas las letras del alfabeto.\n",
    "Puedes tener espacios en blanco, pero NO  tendrás signos de puntuación, a excepción de las tildes.\n",
    "\n",
    "Ejemplo de pangrama:\n",
    "\n",
    "Extraño pan de col y kiwi se quemó bajo fugaz vaho "
   ]
  },
  {
   "cell_type": "code",
   "execution_count": 47,
   "id": "9a349c1e-15ab-4253-97f8-2a07a263791d",
   "metadata": {},
   "outputs": [
    {
     "data": {
      "text/plain": [
       "True"
      ]
     },
     "execution_count": 47,
     "metadata": {},
     "output_type": "execute_result"
    }
   ],
   "source": [
    "import string # Importo el abecedario (lo he mirado en internet la librería)\n",
    "\n",
    "## Intento 1: quito una w y me sigue dando True\n",
    "def pangrama(frase):\n",
    "    frase = frase.lower() \n",
    "    alfabeto = string.ascii_lowercase # imprime todas las letras del abecedario\n",
    "    for letra in alfabeto:\n",
    "        if letra in frase:\n",
    "            return True\n",
    "        else:\n",
    "            return False\n",
    "\n",
    "frase = \"Extraño pan de col y kiwi se quemó bajo fugaz vaho\"\n",
    "\n",
    "pangrama(frase)\n"
   ]
  },
  {
   "cell_type": "code",
   "execution_count": 21,
   "id": "e1673066",
   "metadata": {},
   "outputs": [
    {
     "data": {
      "text/plain": [
       "True"
      ]
     },
     "execution_count": 21,
     "metadata": {},
     "output_type": "execute_result"
    }
   ],
   "source": [
    "## Intento 2: Solucionado, se quedaba en la letra 'a' y no seguía el bucle ya que se acaba con la primera letra encontrada y no seguía.\n",
    "# Lo he averiguado poniendo un print(letra) justo después del for\n",
    "# Con continue conseguí que el bucle siguiese hasta acabar con el string abecedario.\n",
    "# He obviado la libreria string y lo he hecho a la antigua\n",
    "\n",
    "def pangrama_2(frase):\n",
    "    abecedario = \"abcdefghijklamñopqrstuvwxyz\"\n",
    "    frase_mod = frase.lower().replace(\" \", \"\") # lo he puesto e minúsculas y lo he juntado todo para que se asemejase con el string 'abecedario'\n",
    "    for letra in abecedario:\n",
    "        if letra not in frase_mod:\n",
    "            return False\n",
    "        else:\n",
    "            continue\n",
    "    return True\n",
    "            \n",
    "\n",
    "frase = \"Extraño pan de col y kiwi se quemó bajo fugaz vaho\"\n",
    "\n",
    "pangrama_2(frase)\n"
   ]
  },
  {
   "cell_type": "markdown",
   "id": "3dbb76e0-79b2-45e8-9034-58ee9cbd82bb",
   "metadata": {},
   "source": [
    "#### Ejercicio 5. \n",
    "\n",
    "Escribe un programa que use diccionarios para traducir palabras entre varios idiomas.\n",
    "Deberás pedirle al usuario una palabra por teclado, ver si está en tu diccionario. En caso de que esté, deberás mostrar la traducción de esa palabra.\n",
    "\n",
    "Ejemplo de diccionario:\n",
    "\n",
    "```python\n",
    "{\"file\": \"Fichier\", \"new\": \"Nouveau\", \"open\": \"Ouvrir\", \"save\": \"Enregistrer\", \"save as\": \"Enregistrer sous\", \"print preview\": \"Apercu avant impressioner\", \"print\": \"Imprimer\", \"close\": \"Fermer\", \"exit\": \"Quitter\"}"
   ]
  },
  {
   "cell_type": "code",
   "execution_count": 55,
   "id": "88236123-e8ac-45da-87d0-134a88a690c1",
   "metadata": {},
   "outputs": [
    {
     "name": "stdout",
     "output_type": "stream",
     "text": [
      "Esa palabra no se encuentra\n"
     ]
    }
   ],
   "source": [
    "diccionario = {\"file\": \"Fichier\", \"new\": \"Nouveau\", \"open\": \"Ouvrir\", \"save\": \"Enregistrer\", \"save as\": \"Enregistrer sous\", \"print preview\": \"Apercu avant impressioner\", \"print\": \"Imprimer\", \"close\": \"Fermer\", \"exit\": \"Quitter\"}\n",
    "\n",
    "palabra = input(\"Escribe la palabra que quiera traducir al español\")\n",
    "\n",
    "def traduccion():\n",
    "    for clave, valor in diccionario.items():\n",
    "        if palabra in diccionario.keys():\n",
    "            print(f\"La palabra {palabra}, se dice en francés {diccionario[palabra]}\")\n",
    "            break\n",
    "        else:\n",
    "            print(\"Esa palabra no se encuentra\")\n",
    "            break\n",
    "\n",
    "traduccion()\n",
    "   "
   ]
  },
  {
   "cell_type": "markdown",
   "id": "61967ca4-7e06-44b3-ad7b-adbc0e71671a",
   "metadata": {},
   "source": [
    "#### Ejercicio 6.\n",
    "\n",
    "Usando objetos modela un theremin (es un instrumento musical que se toca modificando el campo electromagnético, por si tenías curiosidad).\n",
    "Tendrá de atributos la marca, el modelo, el peso, la potencia y la batería.\n",
    "\n",
    "Todos los instrumentos se crean con un peso predeterminado de 500, una potencia de 50 y una batería de 200.\n",
    "\n",
    "Cuando se recarga la batería vale 200.\n",
    "\n",
    "Cuando se toca, se muestra por pantalla que está sonando y la batería disminuye 10 (no siendo nunca negativo).\n",
    "Si no hay batería, no puede sonar. Crea un instrumento, tócalo mientras quede batería, cárgalo y no lo vuelvas a tocar.\n"
   ]
  },
  {
   "cell_type": "code",
   "execution_count": 3,
   "id": "93116054",
   "metadata": {},
   "outputs": [
    {
     "name": "stdout",
     "output_type": "stream",
     "text": [
      "El Theremin Molon está tocando\n",
      "El Theremin Molon está tocando\n",
      "El Theremin Molon está tocando\n",
      "El Theremin Molon está tocando\n",
      "El Theremin Molon está tocando\n",
      "El Theremin Molon está tocando\n",
      "El Theremin Molon está tocando\n",
      "El Theremin Molon está tocando\n",
      "El Theremin Molon está tocando\n",
      "El Theremin Molon está tocando\n",
      "El Theremin Molon no tiene batería\n",
      "Bateria llena\n"
     ]
    }
   ],
   "source": [
    "class instrumentos:\n",
    "    peso = 500\n",
    "    potencia = 50\n",
    "    bateria = 200\n",
    "\n",
    "    def __init__(self, nombre, marca, modelo):\n",
    "        self.nombre = nombre\n",
    "        self.marca = marca\n",
    "        self.modelo = modelo\n",
    "\n",
    "    def tocar(self):\n",
    "        while True:\n",
    "            if instrumentos.bateria >= 200:\n",
    "                print(f\"El {self.nombre} {self.modelo} está tocando\")\n",
    "                self.bateria -= 20\n",
    "            if self.bateria == 0:\n",
    "                print(f\"El {self.nombre} {self.modelo} no tiene batería\")\n",
    "                return False\n",
    "    \n",
    "    def recargar_bateria(self):\n",
    "        instrumentos.bateria = 200\n",
    "        print(\"Bateria llena\")\n",
    "    \n",
    "instrumento_1 = instrumentos(\"Theremin\", \"Tec\", \"Molon\")\n",
    "\n",
    "instrumento_1.tocar()\n",
    "\n",
    "instrumento_1.recargar_bateria()\n",
    "\n",
    "\n"
   ]
  },
  {
   "cell_type": "markdown",
   "id": "30f773b5-a6da-4446-b36b-722b2ee57730",
   "metadata": {},
   "source": [
    "#### Ejercicio 7 EXTRA, NO PUNTÚA\n",
    "Una empresa usa dos listas  para guardar la información de sus empleados. Una lista guarda el nombre del empleado y la otra guarda su salario. Escribe un programa que cree esas dos listas originalmente vacías y que a través de un menú pueda hacer lo siguiente:\n",
    "    \n",
    "Inserta 1 para añadir un nuevo empleado y su salario\n",
    "\n",
    "Inserta 2 para imprimir los nombres y salarios de todos los empleados\n",
    "\n",
    "Inserta 3 para mostrar el número de empleados\n",
    "\n",
    "Inserta 4 para imprimir los nombres de los empleados con sueldos superiores a 400000\n",
    "\n",
    "Inserta 5 para subir un 5% los sueldos por debajo de 10000\n",
    "\n",
    "Inserta 6 para mostrar el total de todos los salarios\n",
    "\n",
    "Inserta 7 para salir del programa"
   ]
  },
  {
   "cell_type": "code",
   "execution_count": 26,
   "id": "67858e27-b7f5-4e05-bc50-3fca698ad22a",
   "metadata": {},
   "outputs": [
    {
     "name": "stdout",
     "output_type": "stream",
     "text": [
      "\n",
      "        A continuación se muestra el menú para acceder a varias opciones:\n",
      "\n",
      "        Inserta 1 para añadir un nuevo empleado y su salario\n",
      "\n",
      "        Inserta 2 para imprimir los nombres y salarios de todos los empleados\n",
      "\n",
      "        Inserta 3 para mostrar el número de empleados\n",
      "\n",
      "        Inserta 4 para imprimir los nombres de los empleados con sueldos superiores a 400000\n",
      "\n",
      "        Inserta 5 para subir un 5% los sueldos por debajo de 10000\n",
      "\n",
      "        Inserta 6 para mostrar el total de todos los salarios\n",
      "\n",
      "        Inserta 7 para salir del programa\n",
      "        \n"
     ]
    }
   ],
   "source": [
    "empleados = []\n",
    "\n",
    "salario = []\n",
    "\n",
    "def menu():\n",
    "    print('''\n",
    "        A continuación se muestra el menú para acceder a varias opciones:\n",
    "\n",
    "        Inserta 1 para añadir un nuevo empleado y su salario\n",
    "\n",
    "        Inserta 2 para imprimir los nombres y salarios de todos los empleados\n",
    "\n",
    "        Inserta 3 para mostrar el número de empleados\n",
    "\n",
    "        Inserta 4 para imprimir los nombres de los empleados con sueldos superiores a 400000\n",
    "\n",
    "        Inserta 5 para subir un 5% los sueldos por debajo de 10000\n",
    "\n",
    "        Inserta 6 para mostrar el total de todos los salarios\n",
    "\n",
    "        Inserta 7 para salir del programa\n",
    "        ''')\n",
    "    \n",
    "menu()\n",
    "\n",
    "opcion = int(input(\"Inserte la opción que desee\"))\n",
    "\n",
    "if opcion == 1:\n",
    "    print(\"Usted a elegido la opción 1\")\n",
    "    print()\n",
    "    nuevo_empleado = input(\"Inserte el nombre del nuevo empleado\")\n",
    "    empleados.append(nuevo_empleado)\n",
    "    print(\"El nuevo empleado se llama\", nuevo_empleado)\n",
    "\n",
    "    nuevo_salario = int(input(\"Inserte el salario\"))\n",
    "    salario.append(nuevo_salario)\n",
    "    print()\n",
    "    print(f\"{nuevo_salario}, tiene un salario de {nuevo_salario} €\")\n",
    "\n",
    "if opcion == 2:\n",
    "    if len(empleados) == 0 or len(salario) == 0:\n",
    "        print(\"ERROR: Primero tiene que ingresar al menos un nombre y un salario\")\n",
    "    \n",
    "    print(\"Los nombres de los empleados son:\", empleados)\n",
    "    print()\n",
    "    print(\"Los salarios son:\", salario)\n",
    "\n",
    "if opcion == 3:\n",
    "    if len(empleados) == 0:\n",
    "        print(\"ERROR: Primero tiene que ingresar al menos un nombre y un salario\")\n",
    "\n",
    "    print(\"El número de empleados es de:\", len(empleados))\n",
    "\n",
    "if opcion == 4:\n",
    "    if len(empleados) == 0:\n",
    "        print(\"ERROR: Primero tiene que ingresar al menos un nombre y un salario\")\n",
    "\n",
    "    for i,e in enumerate(empleados):\n",
    "        for i,d in enumerate(salario):\n",
    "            if d > 400000:\n",
    "                print(f\"{empleados[i]}, tiene un salario mayor de 400000\")\n",
    "                continue\n",
    "            else:\n",
    "                print(\"Nadie tiene un salario mayor de 400000\")\n",
    "        \n",
    "if opcion == 5:\n",
    "    if len(salario) == 0:\n",
    "        print(\"ERROR: Primero tiene que ingresar al menos un nombre y un salario\")\n",
    "    \n",
    "    for d in salario:\n",
    "        if d < 1000:\n",
    "            subida = d * 0.5\n",
    "            resultado = d + subida\n",
    "    print(\"Se han subido un 5% los salario por debajo de los 1000\")\n",
    "\n",
    "\n",
    "\n"
   ]
  },
  {
   "cell_type": "markdown",
   "id": "e33a0e21-476e-4103-b889-a6b3e76b99f3",
   "metadata": {},
   "source": [
    "\n",
    "####  Ejercicio 8, EXTRA, NO PUNTÚA.\n",
    "\n",
    "Escribe un programa que __USE RECURSIVIDAD__ para decidir cuál es la película de Pixar favorita de un usuario.\n",
    "El programa preguntará al usuario cuál de 2 películas es su favorita, y con esa favorita se le volverá a preguntar entre esa y otra película cuál es su favorita...y así hasta que el usuario haya decidido de entre todas cuál es su favorita.\n",
    "\n",
    "Pista: si no quieres cambiar una lista, usa copy() y tendrás una copia que es otro objeto\n",
    "\n"
   ]
  },
  {
   "cell_type": "code",
   "execution_count": 12,
   "id": "c9936fd4-6d29-4535-9f34-a6f289d18d8b",
   "metadata": {},
   "outputs": [
    {
     "name": "stdout",
     "output_type": "stream",
     "text": [
      "Si prefieres Toy Story marca 1, si prefieres Soul marca 2: 1\n",
      "Prefieres Toy Story\n",
      "Si prefieres Toy Story marca 1, si prefieres Up marca 2: 2\n",
      "Prefieres Up\n",
      "Si prefieres Up marca 1, si prefieres Coco marca 2: 2\n",
      "Prefieres Coco\n",
      "Si prefieres Coco marca 1, si prefieres Luca marca 2: 1\n",
      "Prefieres Coco\n",
      "Si prefieres Coco marca 1, si prefieres Monsters marca 2: 2\n",
      "Prefieres Monsters\n",
      "Si prefieres Monsters marca 1, si prefieres Inside Out marca 2: 1\n",
      "Prefieres Monsters\n",
      "Si prefieres Monsters marca 1, si prefieres WallE marca 2: 2\n",
      "Prefieres WallE\n",
      "Si prefieres WallE marca 1, si prefieres Buscando a Nemo marca 2: 2\n",
      "Prefieres Buscando a Nemo\n",
      "Si prefieres Buscando a Nemo marca 1, si prefieres Los increíbles marca 2: 1\n",
      "Prefieres Buscando a Nemo\n",
      "\n",
      "Prefieres finalmente Buscando a Nemo\n"
     ]
    }
   ],
   "source": [
    "\n",
    "\n",
    "            "
   ]
  },
  {
   "cell_type": "code",
   "execution_count": null,
   "id": "e0264a74-638f-4a82-95a0-cddee11253b7",
   "metadata": {},
   "outputs": [],
   "source": []
  },
  {
   "cell_type": "code",
   "execution_count": 1,
   "id": "10a7b881",
   "metadata": {},
   "outputs": [],
   "source": [
    "# FIN DEL EXAMEN\n",
    "\n"
   ]
  }
 ],
 "metadata": {
  "kernelspec": {
   "display_name": "Python 3 (ipykernel)",
   "language": "python",
   "name": "python3"
  },
  "language_info": {
   "codemirror_mode": {
    "name": "ipython",
    "version": 3
   },
   "file_extension": ".py",
   "mimetype": "text/x-python",
   "name": "python",
   "nbconvert_exporter": "python",
   "pygments_lexer": "ipython3",
   "version": "3.12.3"
  },
  "vscode": {
   "interpreter": {
    "hash": "252189e587d1e2aeba4a06e91fa71896c7a7f6e22e918b9407c7cde4ef2d5985"
   }
  }
 },
 "nbformat": 4,
 "nbformat_minor": 5
}
